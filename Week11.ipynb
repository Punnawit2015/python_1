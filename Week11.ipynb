{
 "cells": [
  {
   "cell_type": "code",
   "execution_count": 7,
   "metadata": {},
   "outputs": [
    {
     "ename": "KeyboardInterrupt",
     "evalue": "Interrupted by user",
     "output_type": "error",
     "traceback": [
      "\u001b[1;31m---------------------------------------------------------------------------\u001b[0m",
      "\u001b[1;31mKeyboardInterrupt\u001b[0m                         Traceback (most recent call last)",
      "Cell \u001b[1;32mIn[7], line 1\u001b[0m\n\u001b[1;32m----> 1\u001b[0m FirstInput \u001b[38;5;241m=\u001b[39m \u001b[38;5;28mint\u001b[39m(\u001b[38;5;28;43minput\u001b[39;49m\u001b[43m(\u001b[49m\u001b[38;5;124;43m\"\u001b[39;49m\u001b[38;5;124;43mThe first digit number\u001b[39;49m\u001b[38;5;124;43m\"\u001b[39;49m\u001b[43m)\u001b[49m)\n\u001b[0;32m      2\u001b[0m SecondInput \u001b[38;5;241m=\u001b[39m \u001b[38;5;28mint\u001b[39m(\u001b[38;5;28minput\u001b[39m(\u001b[38;5;124m\"\u001b[39m\u001b[38;5;124mThe second digit number\u001b[39m\u001b[38;5;124m\"\u001b[39m))\n\u001b[0;32m      4\u001b[0m Y \u001b[38;5;241m=\u001b[39m FirstInput\u001b[38;5;241m-\u001b[39mSecondInput\n",
      "File \u001b[1;32m~\\AppData\\Roaming\\Python\\Python312\\site-packages\\ipykernel\\kernelbase.py:1282\u001b[0m, in \u001b[0;36mKernel.raw_input\u001b[1;34m(self, prompt)\u001b[0m\n\u001b[0;32m   1280\u001b[0m     msg \u001b[38;5;241m=\u001b[39m \u001b[38;5;124m\"\u001b[39m\u001b[38;5;124mraw_input was called, but this frontend does not support input requests.\u001b[39m\u001b[38;5;124m\"\u001b[39m\n\u001b[0;32m   1281\u001b[0m     \u001b[38;5;28;01mraise\u001b[39;00m StdinNotImplementedError(msg)\n\u001b[1;32m-> 1282\u001b[0m \u001b[38;5;28;01mreturn\u001b[39;00m \u001b[38;5;28;43mself\u001b[39;49m\u001b[38;5;241;43m.\u001b[39;49m\u001b[43m_input_request\u001b[49m\u001b[43m(\u001b[49m\n\u001b[0;32m   1283\u001b[0m \u001b[43m    \u001b[49m\u001b[38;5;28;43mstr\u001b[39;49m\u001b[43m(\u001b[49m\u001b[43mprompt\u001b[49m\u001b[43m)\u001b[49m\u001b[43m,\u001b[49m\n\u001b[0;32m   1284\u001b[0m \u001b[43m    \u001b[49m\u001b[38;5;28;43mself\u001b[39;49m\u001b[38;5;241;43m.\u001b[39;49m\u001b[43m_parent_ident\u001b[49m\u001b[43m[\u001b[49m\u001b[38;5;124;43m\"\u001b[39;49m\u001b[38;5;124;43mshell\u001b[39;49m\u001b[38;5;124;43m\"\u001b[39;49m\u001b[43m]\u001b[49m\u001b[43m,\u001b[49m\n\u001b[0;32m   1285\u001b[0m \u001b[43m    \u001b[49m\u001b[38;5;28;43mself\u001b[39;49m\u001b[38;5;241;43m.\u001b[39;49m\u001b[43mget_parent\u001b[49m\u001b[43m(\u001b[49m\u001b[38;5;124;43m\"\u001b[39;49m\u001b[38;5;124;43mshell\u001b[39;49m\u001b[38;5;124;43m\"\u001b[39;49m\u001b[43m)\u001b[49m\u001b[43m,\u001b[49m\n\u001b[0;32m   1286\u001b[0m \u001b[43m    \u001b[49m\u001b[43mpassword\u001b[49m\u001b[38;5;241;43m=\u001b[39;49m\u001b[38;5;28;43;01mFalse\u001b[39;49;00m\u001b[43m,\u001b[49m\n\u001b[0;32m   1287\u001b[0m \u001b[43m\u001b[49m\u001b[43m)\u001b[49m\n",
      "File \u001b[1;32m~\\AppData\\Roaming\\Python\\Python312\\site-packages\\ipykernel\\kernelbase.py:1325\u001b[0m, in \u001b[0;36mKernel._input_request\u001b[1;34m(self, prompt, ident, parent, password)\u001b[0m\n\u001b[0;32m   1322\u001b[0m \u001b[38;5;28;01mexcept\u001b[39;00m \u001b[38;5;167;01mKeyboardInterrupt\u001b[39;00m:\n\u001b[0;32m   1323\u001b[0m     \u001b[38;5;66;03m# re-raise KeyboardInterrupt, to truncate traceback\u001b[39;00m\n\u001b[0;32m   1324\u001b[0m     msg \u001b[38;5;241m=\u001b[39m \u001b[38;5;124m\"\u001b[39m\u001b[38;5;124mInterrupted by user\u001b[39m\u001b[38;5;124m\"\u001b[39m\n\u001b[1;32m-> 1325\u001b[0m     \u001b[38;5;28;01mraise\u001b[39;00m \u001b[38;5;167;01mKeyboardInterrupt\u001b[39;00m(msg) \u001b[38;5;28;01mfrom\u001b[39;00m \u001b[38;5;28;01mNone\u001b[39;00m\n\u001b[0;32m   1326\u001b[0m \u001b[38;5;28;01mexcept\u001b[39;00m \u001b[38;5;167;01mException\u001b[39;00m:\n\u001b[0;32m   1327\u001b[0m     \u001b[38;5;28mself\u001b[39m\u001b[38;5;241m.\u001b[39mlog\u001b[38;5;241m.\u001b[39mwarning(\u001b[38;5;124m\"\u001b[39m\u001b[38;5;124mInvalid Message:\u001b[39m\u001b[38;5;124m\"\u001b[39m, exc_info\u001b[38;5;241m=\u001b[39m\u001b[38;5;28;01mTrue\u001b[39;00m)\n",
      "\u001b[1;31mKeyboardInterrupt\u001b[0m: Interrupted by user"
     ]
    }
   ],
   "source": [
    "FirstInput = int(input(\"The first digit number\"))\n",
    "SecondInput = int(input(\"The second digit number\"))\n",
    "\n",
    "Y = FirstInput-SecondInput\n",
    "print(\"Y is\",Y)"
   ]
  },
  {
   "cell_type": "code",
   "execution_count": null,
   "metadata": {},
   "outputs": [
    {
     "name": "stdout",
     "output_type": "stream",
     "text": [
      "30 10 200 2.0\n"
     ]
    }
   ],
   "source": [
    "FirstInput = int(input(\"Please enter 2 digit number\"))\n",
    "SecondInput = int(input(\"Please enter Seconde 2 digit number\"))\n",
    "\n",
    "Ans1 = FirstInput+SecondInput\n",
    "Ans2 = FirstInput-SecondInput\n",
    "Ans3 = FirstInput*SecondInput\n",
    "Ans4 = FirstInput/SecondInput\n",
    "print(Ans1,Ans2,Ans3,Ans4)"
   ]
  },
  {
   "cell_type": "code",
   "execution_count": null,
   "metadata": {},
   "outputs": [
    {
     "name": "stdout",
     "output_type": "stream",
     "text": [
      "What do you want to do with th eupper number you enter a minute ago.There are 4 thing you can do with it 1.Plus 2.Minus 3.Mutiply 4.Divide\n",
      "0.45918367346938777\n"
     ]
    }
   ],
   "source": [
    "inputFir = int(input(\"Please input an 2 digit Number to multiply or plus or minus or divide\"))\n",
    "inputSec = int(input(\"Same as the upper one\"))\n",
    "print(\"What do you want to do with th eupper number you enter a minute ago.There are 4 thing you can do with it 1.Plus 2.Minus 3.Mutiply 4.Divide\")\n",
    "To = input(\"Chose one from the statement\")\n",
    "if To == \"Plus\":\n",
    "    Ans1 = inputFir+inputSec\n",
    "    print(Ans1)\n",
    "elif To == \"Minus\":\n",
    "    Ans2 = inputFir-inputSec\n",
    "    print(Ans2)\n",
    "elif To == \"Multiply\":\n",
    "    Ans3 = inputFir*inputSec\n",
    "    print(Ans3)\n",
    "elif To == \"Divide\":\n",
    "    Ans4 = inputFir/inputSec\n",
    "    print(Ans4)\n",
    "else:\n",
    "    print(\"Error\")\n",
    "    \n",
    "\n"
   ]
  },
  {
   "cell_type": "code",
   "execution_count": 18,
   "metadata": {},
   "outputs": [
    {
     "name": "stdout",
     "output_type": "stream",
     "text": [
      "50 is even number\n"
     ]
    }
   ],
   "source": [
    "val1 = 20\n",
    "val2  = 30\n",
    "\n",
    "total  =val1+val2\n",
    "if(total % 2 == 0):\n",
    "    print(total,\"is even number\")\n",
    "else:\n",
    "    print(total,\"is odd number\")"
   ]
  },
  {
   "cell_type": "code",
   "execution_count": 30,
   "metadata": {},
   "outputs": [
    {
     "name": "stdout",
     "output_type": "stream",
     "text": [
      "9 Odd\n",
      "1 Odd\n",
      "20 Even\n"
     ]
    }
   ],
   "source": [
    "inputFirst = int(input(\"Please enter 2 digit number\"))\n",
    "inputSecond = int(input(\"Please enter 2 digit number\"))\n",
    "\n",
    "Total = inputFirst+inputSecond\n",
    "All  = inputFirst-inputSecond\n",
    "together  =inputFirst*inputSecond\n",
    "if(Total % 2 == 0):\n",
    "    Total_praity = \"Even\"\n",
    "else:\n",
    "    Total_praity = \"Odd\"\n",
    "if(All % 2 == 0):\n",
    "   All_praity = \"Even\"\n",
    "else:\n",
    "    All_praity = \"Odd\"\n",
    "if(together % 2 == 0):\n",
    "    together_praity = \"Even\"\n",
    "else:\n",
    "    together_praity = \"Odd\"\n",
    "print(Total,Total_praity)\n",
    "print(All,All_praity)\n",
    "print(together,together_praity)\n",
    "\n",
    "\n"
   ]
  }
 ],
 "metadata": {
  "kernelspec": {
   "display_name": "Python 3",
   "language": "python",
   "name": "python3"
  },
  "language_info": {
   "codemirror_mode": {
    "name": "ipython",
    "version": 3
   },
   "file_extension": ".py",
   "mimetype": "text/x-python",
   "name": "python",
   "nbconvert_exporter": "python",
   "pygments_lexer": "ipython3",
   "version": "3.12.4"
  }
 },
 "nbformat": 4,
 "nbformat_minor": 2
}
