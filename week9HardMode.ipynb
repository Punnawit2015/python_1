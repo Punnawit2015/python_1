{
 "cells": [
  {
   "cell_type": "code",
   "execution_count": null,
   "metadata": {},
   "outputs": [
    {
     "name": "stdout",
     "output_type": "stream",
     "text": [
      "Hello,I can help you find the area and Perimeter\n",
      "Error\n"
     ]
    }
   ],
   "source": [
    "print(\"Hello,I can help you find the area and Perimeter\")\n",
    "Find = input(\"Choose an Shape Triangle,Square,Circle,Rectangle\")\n",
    "if Find == \"Triangle\":\n",
    "    base = int(input(\"What is the base\"))\n",
    "    Height = int(input(\"What is the Height\"))\n",
    "    Area = 0.5 * base * Height\n",
    "    Perimeter = base + Height + Height\n",
    "    print(\"The area is\", Area)\n",
    "    print(\"The perimeter is\", Perimeter)\n",
    "elif Find == \"Square\":\n",
    "    Side = int(input(\"What is the side\"))\n",
    "    Area1 = Side * Side\n",
    "    Perimeter1 = Side * 4\n",
    "    print(\"The perimeter is \", Perimeter1)\n",
    "    print(\"The area is \", Area1)\n",
    "elif Find == \"Circle\":\n",
    "    Radias = int(input(\"What is the Radias\"))\n",
    "    Area2 = 3.14 * Radias * Radias\n",
    "    Perimeter2 = 2 * 3.14 * Radias\n",
    "    print(\"The area is\", Area2)\n",
    "    print(\"The perimeter is \", Perimeter2)\n",
    "elif Find == \"Rectangle\":\n",
    "    Lenght = int(input(\"What is the Lenght\"))\n",
    "    Width = int(input(\"What is the Width\"))\n",
    "    Area3 = Lenght * Width\n",
    "    Perimeter3 = Lenght + Lenght + Width + Width\n",
    "    print(\"The area is\", Area3)\n",
    "    print(\"The perimeter is \", Perimeter3)\n",
    "else:\n",
    "    print(\"Error\")"
   ]
  },
  {
   "cell_type": "code",
   "execution_count": 2,
   "metadata": {},
   "outputs": [
    {
     "name": "stdout",
     "output_type": "stream",
     "text": [
      "Hello,I can help you find the area and Perimeter\n",
      "The area is 153.86\n",
      "Error\n"
     ]
    }
   ],
   "source": [
    "print(\"Hello,I can help you find the area and Perimeter\")\n",
    "Find = input(\"Choose an Shape Triangle,Square,Circle,Rectangle\")\n",
    "if Find == \"Triangle\":\n",
    "    Ask = input(\"Find the area or the perimeter\")\n",
    "    if Ask == \"area\":\n",
    "        base = int(input(\"What is the base\"))\n",
    "        Height = int(input(\"What is the Height\"))\n",
    "        Area = 0.5 * base * Height\n",
    "        print(\"The area is\", Area)\n",
    "    if Ask == \"perimeter\":\n",
    "        base = int(input(\"What is the base\"))\n",
    "        Height = int(input(\"What is the Height\"))\n",
    "        Perimeter = base + Height + Height\n",
    "        print(\"The perimeter is\", Perimeter)\n",
    "    else:\n",
    "        print(\"Erorr\")\n",
    "        \n",
    "elif Find == \"Square\":\n",
    "    Ask1 = input(\"Find the area or the perimeter\")\n",
    "    if Ask1 == \"area\":\n",
    "        Side = int(input(\"What is the side\"))\n",
    "        Area1 = Side * Side\n",
    "        print(\"area is \", Area)\n",
    "    if Ask1 == \"perimeter\":\n",
    "        Side = int(input(\"What is the side\"))\n",
    "        Perimeter1 = Side * 4\n",
    "        print(\"The perimeter is \", Perimeter1)\n",
    "    else:\n",
    "        print(\"Error\")\n",
    "        \n",
    "elif Find == \"Circle\":\n",
    "    Ask2 = input(\"Find the area or the perimeter\")\n",
    "    if Ask2 == \"area\":\n",
    "        Radias = int(input(\"What is the Radias\"))\n",
    "        Area2 = 3.14 * Radias * Radias\n",
    "        print(\"The area is\", Area2)\n",
    "    if Ask2 == \"perimeter\":\n",
    "        Perimeter2 = 2 * 3.14 * Radias\n",
    "        print(\"The perimeter is \", Perimeter2)\n",
    "    else:\n",
    "        print(\"Error\")\n",
    "        \n",
    "elif Find == \"Rectangle\":\n",
    "    Ask3 = input(\"Find the area or the perimeter\")\n",
    "    if Ask3 == \"area\":\n",
    "        Lenght = int(input(\"What is the Lenght\"))\n",
    "        Width = int(input(\"What is the Width\"))\n",
    "        print(\"The area is\", Area3)\n",
    "    if Ask3 == \"perimeter\":\n",
    "        Lenght = int(input(\"What is the Lenght\"))\n",
    "        Width = int(input(\"What is the Width\"))\n",
    "        Perimeter3 = Lenght + Lenght + Width + Width\n",
    "        print(\"The perimeter is \", Perimeter3)\n",
    "    else:\n",
    "        print(\"Error\")\n",
    "else:\n",
    "    print(\"Error\")"
   ]
  },
  {
   "cell_type": "code",
   "execution_count": null,
   "metadata": {},
   "outputs": [],
   "source": []
  }
 ],
 "metadata": {
  "kernelspec": {
   "display_name": "Python 3",
   "language": "python",
   "name": "python3"
  },
  "language_info": {
   "codemirror_mode": {
    "name": "ipython",
    "version": 3
   },
   "file_extension": ".py",
   "mimetype": "text/x-python",
   "name": "python",
   "nbconvert_exporter": "python",
   "pygments_lexer": "ipython3",
   "version": "3.12.4"
  }
 },
 "nbformat": 4,
 "nbformat_minor": 2
}
