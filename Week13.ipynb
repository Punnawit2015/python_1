{
 "cells": [
  {
   "cell_type": "code",
   "execution_count": 4,
   "metadata": {},
   "outputs": [
    {
     "name": "stdout",
     "output_type": "stream",
     "text": [
      "12003998320.5\n"
     ]
    }
   ],
   "source": [
    "spaceBar = input(\"I don't know what to do\").split()\n",
    "valid_number  = []\n",
    "total = 0\n",
    "count = 0\n",
    "\n",
    "for num in spaceBar:\n",
    "    if num.replace(\".\",\"\",1).isdigit() and \".\" not in num:\n",
    "        value  = int(num)\n",
    "        if value % 2 == 0:\n",
    "            total+=value\n",
    "            count+=1\n",
    "    else:\n",
    "        print(\"Error\")\n",
    "if count>0:\n",
    "    print(round(total/count,2))\n",
    "else:\n",
    "    print(\"Error\")\n",
    "            \n",
    "            \n",
    "        \n",
    "        \n",
    "        \n",
    "        \n",
    "    \n"
   ]
  }
 ],
 "metadata": {
  "kernelspec": {
   "display_name": "Python 3",
   "language": "python",
   "name": "python3"
  },
  "language_info": {
   "codemirror_mode": {
    "name": "ipython",
    "version": 3
   },
   "file_extension": ".py",
   "mimetype": "text/x-python",
   "name": "python",
   "nbconvert_exporter": "python",
   "pygments_lexer": "ipython3",
   "version": "3.12.4"
  }
 },
 "nbformat": 4,
 "nbformat_minor": 2
}
