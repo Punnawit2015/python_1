{
 "cells": [
  {
   "cell_type": "code",
   "execution_count": 4,
   "metadata": {},
   "outputs": [
    {
     "name": "stdout",
     "output_type": "stream",
     "text": [
      "The perimeter is 208\n",
      "The Area is 832\n"
     ]
    }
   ],
   "source": [
    "Side = int(input(\"What is the side\"))\n",
    "Base = int(input(\"What is the base\"))\n",
    "Width = int(input(\"What is the width\"))\n",
    "Area = Side*12+Base+Base+Width+Width\n",
    "Perimeter = (Side*Side)*3\n",
    "Perimeter1 = Base*Width\n",
    "Perimeter2 = Perimeter+Perimeter1\n",
    "print(\"The perimeter is\",Area)\n",
    "print(\"The Area is\",Perimeter2)"
   ]
  },
  {
   "cell_type": "code",
   "execution_count": 6,
   "metadata": {},
   "outputs": [
    {
     "name": "stdout",
     "output_type": "stream",
     "text": [
      "312\n",
      "3155\n"
     ]
    }
   ],
   "source": [
    "Side1 = int(input(\"What is the side\"))##116\n",
    "Side2 = int(input(\"What is the side2\"))##15\n",
    "Width1 = int(input(\"What is the Width1\"))##18\n",
    "Width2 = int(input(\"What is the Width2\"))##5\n",
    "Lenght1 = int(input(\"What is the Lenght1\"))##20\n",
    "Perimeter = (Side1*2)+(Lenght1+Width2+Side2)*2\n",
    "Area = (Side1*Lenght1)+(Side2*Width1*3)+(Lenght1+Width2)\n",
    "print(Perimeter)\n",
    "print(Area)\n"
   ]
  }
 ],
 "metadata": {
  "kernelspec": {
   "display_name": "Python 3",
   "language": "python",
   "name": "python3"
  },
  "language_info": {
   "codemirror_mode": {
    "name": "ipython",
    "version": 3
   },
   "file_extension": ".py",
   "mimetype": "text/x-python",
   "name": "python",
   "nbconvert_exporter": "python",
   "pygments_lexer": "ipython3",
   "version": "3.12.4"
  }
 },
 "nbformat": 4,
 "nbformat_minor": 2
}
