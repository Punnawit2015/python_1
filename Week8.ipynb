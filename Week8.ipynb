{
 "cells": [
  {
   "cell_type": "code",
   "execution_count": 1,
   "metadata": {},
   "outputs": [
    {
     "name": "stdout",
     "output_type": "stream",
     "text": [
      "45 28\n"
     ]
    }
   ],
   "source": [
    "Lenght = int(input(\"Lenght\"))\n",
    "Width = int(input(\"Width\"))\n",
    "Ans = Lenght*Width\n",
    "Ans1 = Lenght*2\n",
    "Ans2 = Width*2\n",
    "Ans3 = Ans1+Ans2\n",
    "print(Ans,Ans3)\n"
   ]
  },
  {
   "cell_type": "code",
   "execution_count": 2,
   "metadata": {},
   "outputs": [
    {
     "name": "stdout",
     "output_type": "stream",
     "text": [
      "87.92 615.44\n"
     ]
    }
   ],
   "source": [
    "Radias = int(input(\"Radias\"))\n",
    "Pi = 3.14\n",
    "Ans1 = 2*Pi*Radias\n",
    "Ans2 = Pi*Radias*Radias\n",
    "print(Ans1,Ans2)\n",
    "\n",
    "\n"
   ]
  },
  {
   "cell_type": "code",
   "execution_count": 3,
   "metadata": {},
   "outputs": [
    {
     "name": "stdout",
     "output_type": "stream",
     "text": [
      "131.88 1384.74\n"
     ]
    }
   ],
   "source": [
    "Radias = int(input(\"Radias\"))\n",
    "Pi = 3.14\n",
    "Ans1 = 2*Pi*Radias\n",
    "Ans2 = Pi*Radias*Radias\n",
    "print(Ans1,Ans2)"
   ]
  },
  {
   "cell_type": "markdown",
   "metadata": {},
   "source": []
  },
  {
   "cell_type": "code",
   "execution_count": 4,
   "metadata": {},
   "outputs": [
    {
     "name": "stdout",
     "output_type": "stream",
     "text": [
      "36.0 30\n"
     ]
    }
   ],
   "source": [
    "Base = int(input(\"Base\"))\n",
    "Height = int(input(\"Height\"))\n",
    "Ans = 0.5*Base*Height\n",
    "Ans1 = Base*2+Height\n",
    "print(Ans,Ans1)\n"
   ]
  },
  {
   "cell_type": "code",
   "execution_count": 5,
   "metadata": {},
   "outputs": [
    {
     "name": "stdout",
     "output_type": "stream",
     "text": [
      "90 486\n"
     ]
    }
   ],
   "source": [
    "Lenght = int(input(\"Lenght\"))\n",
    "Width = int(input(\"Width\"))\n",
    "Ans1 = Lenght*2\n",
    "Ans2 = Width*2\n",
    "Ans3 = Ans1+Ans2\n",
    "Ans4 = Lenght*Width\n",
    "print(Ans3,Ans4)"
   ]
  }
 ],
 "metadata": {
  "kernelspec": {
   "display_name": "Python 3",
   "language": "python",
   "name": "python3"
  },
  "language_info": {
   "codemirror_mode": {
    "name": "ipython",
    "version": 3
   },
   "file_extension": ".py",
   "mimetype": "text/x-python",
   "name": "python",
   "nbconvert_exporter": "python",
   "pygments_lexer": "ipython3",
   "version": "3.12.4"
  }
 },
 "nbformat": 4,
 "nbformat_minor": 2
}
