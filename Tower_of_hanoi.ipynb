{
 "cells": [
  {
   "cell_type": "code",
   "execution_count": null,
   "id": "44380a10",
   "metadata": {},
   "outputs": [
    {
     "name": "stdout",
     "output_type": "stream",
     "text": [
      "Move disk 1 from peg A to peg C\n",
      "Move disk 2 from peg A to B\n",
      "Move disk 1 from peg C to peg B\n",
      "Move disk 3 from peg A to C\n",
      "Move disk 1 from peg B to peg A\n",
      "Move disk 2 from peg B to C\n",
      "Move disk 1 from peg A to peg C\n"
     ]
    }
   ],
   "source": [
    "def tower_of_hanoi(n, fromPeg, toPeg, auxPeg):\n",
    "    if n == 1:\n",
    "        print(f\"Move disk 1 from peg {fromPeg} to peg {toPeg}\")\n",
    "        return\n",
    "    tower_of_hanoi(n-1, fromPeg, auxPeg, toPeg)\n",
    "    print(f\"Move disk {n} from peg {fromPeg} to {toPeg}\")\n",
    "    tower_of_hanoi(n-1, auxPeg, toPeg, fromPeg)\n",
    "    \n",
    "tower_of_hanoi(10, 'A', 'C', 'B')"
   ]
  }
 ],
 "metadata": {
  "kernelspec": {
   "display_name": "Python 3",
   "language": "python",
   "name": "python3"
  },
  "language_info": {
   "codemirror_mode": {
    "name": "ipython",
    "version": 3
   },
   "file_extension": ".py",
   "mimetype": "text/x-python",
   "name": "python",
   "nbconvert_exporter": "python",
   "pygments_lexer": "ipython3",
   "version": "3.12.4"
  }
 },
 "nbformat": 4,
 "nbformat_minor": 5
}
