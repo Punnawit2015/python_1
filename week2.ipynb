{
 "cells": [
  {
   "cell_type": "code",
   "execution_count": 10,
   "metadata": {},
   "outputs": [],
   "source": [
    "#Fractions library \n",
    "from fractions import Fraction\n",
    "  \n"
   ]
  },
  {
   "cell_type": "code",
   "execution_count": null,
   "metadata": {},
   "outputs": [
    {
     "name": "stdout",
     "output_type": "stream",
     "text": [
      "3/8\n"
     ]
    }
   ],
   "source": [
    "#sol 1\n",
    "total_slice = int(input(\" How pizza did you ordered\"))\n",
    "Eaten_slice = int(input(\"How many sclice of the pizza you eated\"))\n",
    "ans = Fraction(Eaten_slice,total_slice)\n",
    "print(ans)"
   ]
  },
  {
   "cell_type": "code",
   "execution_count": 1,
   "metadata": {},
   "outputs": [
    {
     "name": "stdout",
     "output_type": "stream",
     "text": [
      "17/7\n"
     ]
    }
   ],
   "source": [
    "from fractions import Fraction\n",
    "cake = int(input(\"How many cake did you ordered\"))\n",
    "Eat = int(input(\"How many slice of cake did you and your friend eat\"))\n",
    "Share = int(input(\"How many sclice did your frien eat\"))\n",
    "ans = Fraction(Eat+Share,cake)\n",
    "print(ans)"
   ]
  },
  {
   "cell_type": "code",
   "execution_count": 15,
   "metadata": {},
   "outputs": [
    {
     "name": "stdout",
     "output_type": "stream",
     "text": [
      "2/5\n"
     ]
    }
   ],
   "source": [
    "from fractions import Fraction\n",
    "Order = int(input(\"How many cholate did you buy\"))\n",
    "Eat = int(input(\"how many pice if chocolate di you eat\"))\n",
    "ans = Fraction(Eat,Order)\n",
    "print(ans)\n"
   ]
  },
  {
   "cell_type": "code",
   "execution_count": 19,
   "metadata": {},
   "outputs": [
    {
     "name": "stdout",
     "output_type": "stream",
     "text": [
      "7/12\n"
     ]
    }
   ],
   "source": [
    "from fractions import Fraction\n",
    "Have = int(input(\"How amny bread do you have\"))\n",
    "Share = int(input(\"How amny bread did you share to your freind\"))\n",
    "ans = Fraction(Have-Share,Have)\n",
    "print(ans)"
   ]
  },
  {
   "cell_type": "code",
   "execution_count": 14,
   "metadata": {},
   "outputs": [
    {
     "name": "stdout",
     "output_type": "stream",
     "text": [
      "5/12\n"
     ]
    }
   ],
   "source": [
    "from fraction import Fraction\n",
    "Buy = int(input(\"Hwo amny apples did you buy\"))\n",
    "Eat = int(input(\"how many sclices of apple sdid you Eat\"))\n",
    "ans = Fraction(Buy-Eat,Buy)\n",
    "print(ans)"
   ]
  },
  {
   "cell_type": "code",
   "execution_count": 18,
   "metadata": {},
   "outputs": [
    {
     "name": "stdout",
     "output_type": "stream",
     "text": [
      "5/8\n"
     ]
    }
   ],
   "source": [
    "from fraction import Fraction\n",
    "cut = int(input(\"How many  sclicez of toy did you cut\"))\n",
    "Share = int(input(\"How many piece of the toys did you share to your friend\"))\n",
    "ans = Fraction(cut-Share,cut)\n",
    "print(ans)"
   ]
  },
  {
   "cell_type": "code",
   "execution_count": 23,
   "metadata": {},
   "outputs": [
    {
     "name": "stdout",
     "output_type": "stream",
     "text": [
      "1/1\n"
     ]
    }
   ],
   "source": [
    "from fraction import Fraction\n",
    "paint = int(input(\"how many part of th paint you painted \"))\n",
    "Draw = int(input(\"How amny part of the paint you friend painted\"))\n",
    "ans = Fraction(paint+Draw,3)\n",
    "print(ans)"
   ]
  },
  {
   "cell_type": "code",
   "execution_count": 30,
   "metadata": {},
   "outputs": [
    {
     "name": "stdout",
     "output_type": "stream",
     "text": [
      "2/5\n"
     ]
    }
   ],
   "source": [
    "from fraction import Fraction\n",
    "Boys = int(input(\"How many boy do you have in th e class\"))\n",
    "Girls = int(input(\"How many girls do you have in your class\"))\n",
    "ans = Fraction(Girls,Boys)\n",
    "print(ans)"
   ]
  },
  {
   "cell_type": "code",
   "execution_count": 34,
   "metadata": {},
   "outputs": [
    {
     "name": "stdout",
     "output_type": "stream",
     "text": [
      "1/2\n"
     ]
    }
   ],
   "source": [
    "from fraction import Fraction\n",
    "slice = int(input(\"How many slice of cak edid your mom cut\"))\n",
    "Eat = int(input(\"How many slices of th ecake did you eat\"))\n",
    "eat = int(input(\"Hoe many sclice of the cake did your big sister eat\"))\n",
    "ans = Fraction(Eat+eat,slice)\n",
    "print(ans)"
   ]
  },
  {
   "cell_type": "code",
   "execution_count": null,
   "metadata": {},
   "outputs": [],
   "source": [
    "from fraction import Fraction\n",
    "Have = int(input(\"How many liter are in the water bottle\"))\n",
    "Drink = int(input(\"How many liters  did you drink\"))\n",
    "ans = Fraction(Drinks-Have)\n",
    "print(ans)"
   ]
  }
 ],
 "metadata": {
  "kernelspec": {
   "display_name": "Python 3",
   "language": "python",
   "name": "python3"
  },
  "language_info": {
   "codemirror_mode": {
    "name": "ipython",
    "version": 3
   },
   "file_extension": ".py",
   "mimetype": "text/x-python",
   "name": "python",
   "nbconvert_exporter": "python",
   "pygments_lexer": "ipython3",
   "version": "3.12.4"
  }
 },
 "nbformat": 4,
 "nbformat_minor": 2
}
