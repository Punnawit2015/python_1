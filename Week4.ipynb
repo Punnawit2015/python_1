{
 "cells": [
  {
   "cell_type": "code",
   "execution_count": null,
   "metadata": {},
   "outputs": [
    {
     "name": "stdout",
     "output_type": "stream",
     "text": [
      "30/1\n"
     ]
    }
   ],
   "source": [
    "from fraction import Fraction\n",
    "Have = int(input(\"How many ball did you brought\"))\n",
    "Gets = Fraction(3,5)\n",
    "Ans = Fraction(Gets*Have)\n",
    "print(Ans)                         \n",
    "\n"
   ]
  },
  {
   "cell_type": "code",
   "execution_count": null,
   "metadata": {},
   "outputs": [
    {
     "name": "stdout",
     "output_type": "stream",
     "text": [
      "3/4\n"
     ]
    }
   ],
   "source": [
    "from fr\n",
    "action import Fraction\n",
    "Have = int(input(\"How many piece of cake did you mom brought\"))\n",
    "slice = int(input(\"Who many sclice of cake did your cut into\"))\n",
    "Eat = Fraction(slice,Have)\n",
    "print(Eat)\n"
   ]
  },
  {
   "cell_type": "code",
   "execution_count": 13,
   "metadata": {},
   "outputs": [
    {
     "name": "stdout",
     "output_type": "stream",
     "text": [
      "3/1\n"
     ]
    }
   ],
   "source": [
    "from fraction import Fraction\n",
    "Have = int(input(\"How many ball did you brought\"))\n",
    "Gets = Fraction(1,4)\n",
    "Ans = Fraction(Gets*Have)\n",
    "print(Ans)                         "
   ]
  },
  {
   "cell_type": "code",
   "execution_count": 14,
   "metadata": {},
   "outputs": [
    {
     "name": "stdout",
     "output_type": "stream",
     "text": [
      "9/16\n"
     ]
    }
   ],
   "source": [
    "from fraction import Fraction\n",
    "Have = int(input(\"How many piece of cake did you mom brought\"))\n",
    "slice = int(input(\"Who many sclice of cake did your cut into\"))\n",
    "Eat = Fraction(slice,Have)\n",
    "print(Eat)\n"
   ]
  },
  {
   "cell_type": "code",
   "execution_count": 15,
   "metadata": {},
   "outputs": [
    {
     "name": "stdout",
     "output_type": "stream",
     "text": [
      "15/1\n"
     ]
    }
   ],
   "source": [
    "from fraction import Fraction\n",
    "Have = int(input(\"How many ball did you brought\"))\n",
    "Gets = Fraction(5,8)\n",
    "Ans = Fraction(Gets*Have)\n",
    "print(Ans)                         "
   ]
  }
 ],
 "metadata": {
  "kernelspec": {
   "display_name": "Python 3",
   "language": "python",
   "name": "python3"
  },
  "language_info": {
   "codemirror_mode": {
    "name": "ipython",
    "version": 3
   },
   "file_extension": ".py",
   "mimetype": "text/x-python",
   "name": "python",
   "nbconvert_exporter": "python",
   "pygments_lexer": "ipython3",
   "version": "3.12.4"
  }
 },
 "nbformat": 4,
 "nbformat_minor": 2
}
