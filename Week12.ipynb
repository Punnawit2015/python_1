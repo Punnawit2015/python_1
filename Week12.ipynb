{
 "cells": [
  {
   "cell_type": "code",
   "execution_count": 2,
   "metadata": {},
   "outputs": [
    {
     "name": "stdout",
     "output_type": "stream",
     "text": [
      "53.75\n"
     ]
    }
   ],
   "source": [
    "Inputnub1 = int(input(\"First number\"))\n",
    "Inputnub2 = int(input(\"sec number\"))\n",
    "Inputnub3 = int(input(\"third number\"))\n",
    "Inputnub4 = int(input(\"For number\"))\n",
    "Inputnub5 = int(input(\"Five number\"))\n",
    "Inputnub6 = int(input(\"six number\"))\n",
    "Inputnub7 = int(input(\"seven eleven number\"))\n",
    "Inputnub8 = int(input(\"eight number\"))\n",
    "Inputnub = Inputnub1+Inputnub2+Inputnub3+Inputnub4+Inputnub5+Inputnub6+Inputnub7+Inputnub8\n",
    "Ans = Inputnub/8\n",
    "print(Ans)"
   ]
  },
  {
   "cell_type": "code",
   "execution_count": null,
   "metadata": {},
   "outputs": [],
   "source": [
    "def check_if_not_int(n):\n",
    "    try:\n",
    "        return int(input(n))\n",
    "    except ValueError:\n",
    "        print(\"Erorr_You got bad internet_\")\n",
    "        exit()         \n",
    "Inputnub1 = check_if_not_int(\"First number\")\n",
    "Inputnub2 = check_if_not_int(\"sec number\")\n",
    "Inputnub3 = check_if_not_int(\"third number\")\n",
    "Inputnub4 = check_if_not_int(\"For number\")\n",
    "Inputnub5 = check_if_not_int(\"Five number\")\n",
    "Inputnub6 = check_if_not_int(\"six number\")\n",
    "Inputnub7 = check_if_not_int(\"seven eleven number\")\n",
    "Inputnub8 = check_if_not_int(\"eight number\")\n",
    "\n",
    "\n",
    "total = 0\n",
    "count = 0\n",
    "if(Inputnub1 % 2 == 0):\n",
    "    total+=Inputnub1\n",
    "    count+=1\n",
    "if(Inputnub2 % 2 == 0):\n",
    "    total+=Inputnub2\n",
    "    count+=1\n",
    "if(Inputnub3 % 2 == 0):\n",
    "    total+=Inputnub3\n",
    "    count+=1\n",
    "if(Inputnub4 % 2 == 0):\n",
    "    total+=Inputnub4\n",
    "    count+=1\n",
    "if(Inputnub5 % 2 == 0):\n",
    "    total+=Inputnub5\n",
    "    count+=1\n",
    "if(Inputnub6 % 2 == 0):\n",
    "    total+=Inputnub6\n",
    "    count+=1\n",
    "if(Inputnub7 % 2 == 0):\n",
    "    total+=Inputnub7\n",
    "    count+=1\n",
    "if(Inputnub8 % 2 == 0):\n",
    "    total+=Inputnub8\n",
    "    count+=1\n",
    "\n",
    "Ans = total/count\n",
    "print(Ans)\n",
    "\n",
    "\n",
    "\n"
   ]
  },
  {
   "cell_type": "code",
   "execution_count": 1,
   "metadata": {},
   "outputs": [
    {
     "name": "stdout",
     "output_type": "stream",
     "text": [
      "37.0\n"
     ]
    }
   ],
   "source": [
    "def check_if_not_int(n):\n",
    "    try:\n",
    "        return int(input(n))\n",
    "    except ValueError:\n",
    "        print(\"Erorr_You got bad internet_\")\n",
    "        exit()         \n",
    "Inputnub1 = check_if_not_int(\"First number\")\n",
    "Inputnub2 = check_if_not_int(\"sec number\")\n",
    "Inputnub3 = check_if_not_int(\"third number\")\n",
    "Inputnub4 = check_if_not_int(\"For number\")\n",
    "Inputnub5 = check_if_not_int(\"Five number\")\n",
    "Inputnub6 = check_if_not_int(\"six number\")\n",
    "Inputnub7 = check_if_not_int(\"seven eleven number\")\n",
    "Inputnub8 = check_if_not_int(\"eight number\")\n",
    "\n",
    "\n",
    "total = 0\n",
    "count = 0\n",
    "if(Inputnub1 % 2 != 0):\n",
    "    total+=Inputnub1\n",
    "    count+=1\n",
    "if(Inputnub2 % 2 != 0):\n",
    "    total+=Inputnub2\n",
    "    count+=1\n",
    "if(Inputnub3 % 2 != 0):\n",
    "    total+=Inputnub3\n",
    "    count+=1\n",
    "if(Inputnub4 % 2 != 0):\n",
    "    total+=Inputnub4\n",
    "    count+=1\n",
    "if(Inputnub5 % 2 != 0):\n",
    "    total+=Inputnub5\n",
    "    count+=1\n",
    "if(Inputnub6 % 2 != 0):\n",
    "    total+=Inputnub6\n",
    "    count+=1\n",
    "if(Inputnub7 % 2 != 0):\n",
    "    total+=Inputnub7\n",
    "    count+=1\n",
    "if(Inputnub8 % 2 != 0):\n",
    "    total+=Inputnub8\n",
    "    count+=1\n",
    "\n",
    "Ans = total/count\n",
    "print(Ans)\n",
    "\n",
    "\n",
    "\n"
   ]
  }
 ],
 "metadata": {
  "kernelspec": {
   "display_name": "Python 3",
   "language": "python",
   "name": "python3"
  },
  "language_info": {
   "codemirror_mode": {
    "name": "ipython",
    "version": 3
   },
   "file_extension": ".py",
   "mimetype": "text/x-python",
   "name": "python",
   "nbconvert_exporter": "python",
   "pygments_lexer": "ipython3",
   "version": "3.12.4"
  }
 },
 "nbformat": 4,
 "nbformat_minor": 2
}
