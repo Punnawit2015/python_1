{
 "cells": [
  {
   "cell_type": "code",
   "execution_count": null,
   "metadata": {},
   "outputs": [],
   "source": [
    ".\n",
    "0from fraction import Fraction"
   ]
  },
  {
   "cell_type": "code",
   "execution_count": null,
   "metadata": {},
   "outputs": [],
   "source": []
  },
  {
   "cell_type": "code",
   "execution_count": 4,
   "metadata": {},
   "outputs": [
    {
     "name": "stdout",
     "output_type": "stream",
     "text": [
      "7/8\n"
     ]
    }
   ],
   "source": [
    "from fraction import Fraction\n",
    "slice = int(input(\"How many slice of th e cake did you have\"))\n",
    "Eat_1 = int(input(\"How many slice of the cakes did gruop_1 eat\"))\n",
    "Eat_2 = int(input(\"How many slice of the cakes did gruop_2 eat\"))\n",
    "ans = Fraction(Eat_1+Eat_2,slice)\n",
    "print(ans)"
   ]
  },
  {
   "cell_type": "code",
   "execution_count": 15,
   "metadata": {},
   "outputs": [
    {
     "name": "stdout",
     "output_type": "stream",
     "text": [
      "12/1\n"
     ]
    }
   ],
   "source": [
    "from fraction import Fraction\n",
    "Have= int(input(\"How many piece of the candy you have\"))\n",
    "eat = Fraction(3, 5)\n",
    "answer = eat* Have\n",
    "print(answer)\n",
    "\n"
   ]
  },
  {
   "cell_type": "code",
   "execution_count": 1,
   "metadata": {},
   "outputs": [
    {
     "name": "stdout",
     "output_type": "stream",
     "text": [
      "19/15\n"
     ]
    }
   ],
   "source": [
    "from fraction import Fraction\n",
    "Read_1 = int(input(\"How many book did you read in the morning\"))\n",
    "Read_2 = int(input(\"How many book did you read in th evening\"))\n",
    "ReadAll  = int(input(\"How many book did yo uread alltogether\"))\n",
    "answer = Fraction(Read_2+Read_1,ReadAll)\n",
    "print(answer)"
   ]
  }
 ],
 "metadata": {
  "kernelspec": {
   "display_name": "Python 3",
   "language": "python",
   "name": "python3"
  },
  "language_info": {
   "codemirror_mode": {
    "name": "ipython",
    "version": 3
   },
   "file_extension": ".py",
   "mimetype": "text/x-python",
   "name": "python",
   "nbconvert_exporter": "python",
   "pygments_lexer": "ipython3",
   "version": "3.12.4"
  }
 },
 "nbformat": 4,
 "nbformat_minor": 2
}
