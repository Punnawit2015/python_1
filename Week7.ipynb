{
 "cells": [
  {
   "cell_type": "code",
   "execution_count": 34,
   "metadata": {},
   "outputs": [
    {
     "ename": "TypeError",
     "evalue": "'int' object is not callable",
     "output_type": "error",
     "traceback": [
      "\u001b[1;31m---------------------------------------------------------------------------\u001b[0m",
      "\u001b[1;31mTypeError\u001b[0m                                 Traceback (most recent call last)",
      "Cell \u001b[1;32mIn[34], line 6\u001b[0m\n\u001b[0;32m      4\u001b[0m Ans1 \u001b[38;5;241m=\u001b[39m(Lenght\u001b[38;5;241m+\u001b[39mWidth)\u001b[38;5;241m*\u001b[39m\u001b[38;5;241m2\u001b[39m\n\u001b[0;32m      5\u001b[0m Ans2 \u001b[38;5;241m=\u001b[39m Lenght\u001b[38;5;241m*\u001b[39mWidth\n\u001b[1;32m----> 6\u001b[0m \u001b[38;5;28;43mprint\u001b[39;49m\u001b[43m(\u001b[49m\u001b[43mAns1\u001b[49m\u001b[43m,\u001b[49m\u001b[43mAns2\u001b[49m\u001b[43m)\u001b[49m\n",
      "\u001b[1;31mTypeError\u001b[0m: 'int' object is not callable"
     ]
    }
   ],
   "source": [
    "import math\n",
    "Lenght = int(input(\"Lenght\"))\n",
    "Width = int(input(\"Width\"))\n",
    "Ans1 =(Lenght+Width)*2\n",
    "Ans2 = Lenght*Width\n",
    "print(Ans1,Ans2)"
   ]
  },
  {
   "cell_type": "code",
   "execution_count": 35,
   "metadata": {},
   "outputs": [],
   "source": [
    "del print\n"
   ]
  },
  {
   "cell_type": "code",
   "execution_count": 36,
   "metadata": {},
   "outputs": [
    {
     "name": "stdout",
     "output_type": "stream",
     "text": [
      "25 25.0\n"
     ]
    }
   ],
   "source": [
    "import math\n",
    "Base = int(input(\"Base: \"))\n",
    "Height = int(input(\"Height: \"))\n",
    "Ans1 = (Base * 2) + Height\n",
    "Ans2 = 0.5 * Base * Height\n",
    "print(Ans1, Ans2)\n",
    "\n",
    "\n",
    "\n",
    "\n"
   ]
  },
  {
   "cell_type": "code",
   "execution_count": 41,
   "metadata": {},
   "outputs": [
    {
     "name": "stdout",
     "output_type": "stream",
     "text": [
      "24 36\n"
     ]
    }
   ],
   "source": [
    "Lenght = int(input(\"Lenght\"))\n",
    "Ans1 = Lenght*4\n",
    "Ans2 = Lenght*Lenght\n",
    "print(Ans1,Ans2)"
   ]
  },
  {
   "cell_type": "code",
   "execution_count": 42,
   "metadata": {},
   "outputs": [
    {
     "name": "stdout",
     "output_type": "stream",
     "text": [
      "153.86 43.96\n"
     ]
    }
   ],
   "source": [
    "Radias = int(input(\"Radias\"))\n",
    "Ans1 = 3.14*Radias*Radias\n",
    "Ans = 2*3.14*Radias\n",
    "print(Ans1,Ans)"
   ]
  },
  {
   "cell_type": "code",
   "execution_count": 43,
   "metadata": {},
   "outputs": [
    {
     "name": "stdout",
     "output_type": "stream",
     "text": [
      "153.93804002589985\n",
      "43.982297150257104\n"
     ]
    }
   ],
   "source": [
    "import math\n",
    "radius1 = int(input(\"Radius\"))\n",
    "area  = math.pi * radius1**2\n",
    "perimeter = 2*math.pi*radius1\n",
    "\n",
    "print (area)\n",
    "print(perimeter)"
   ]
  },
  {
   "cell_type": "code",
   "execution_count": 45,
   "metadata": {},
   "outputs": [
    {
     "name": "stdout",
     "output_type": "stream",
     "text": [
      "20\n",
      "24\n"
     ]
    }
   ],
   "source": [
    "Lenght = int(input(\"Lenght\"))\n",
    "Width = int(input(\"Width\"))\n",
    "Ans1 = Lenght*2+Width+Width\n",
    "Ans2 = Lenght*Width\n",
    "print(Ans1)\n",
    "print(Ans2)"
   ]
  },
  {
   "cell_type": "code",
   "execution_count": 50,
   "metadata": {},
   "outputs": [
    {
     "ename": "NameError",
     "evalue": "name 'print' is not defined",
     "output_type": "error",
     "traceback": [
      "\u001b[1;31m---------------------------------------------------------------------------\u001b[0m",
      "\u001b[1;31mNameError\u001b[0m                                 Traceback (most recent call last)",
      "Cell \u001b[1;32mIn[50], line 1\u001b[0m\n\u001b[1;32m----> 1\u001b[0m \u001b[38;5;28;01mdel\u001b[39;00m \u001b[38;5;28;43mprint\u001b[39;49m\n",
      "\u001b[1;31mNameError\u001b[0m: name 'print' is not defined"
     ]
    }
   ],
   "source": [
    "del print"
   ]
  },
  {
   "cell_type": "code",
   "execution_count": 55,
   "metadata": {},
   "outputs": [
    {
     "name": "stdout",
     "output_type": "stream",
     "text": [
      "27 837.6381573913162\n"
     ]
    }
   ],
   "source": [
    "\n",
    "import math\n",
    "Perimeter = int(input(\"perimeter\"))\n",
    "Ans1 = Perimeter*3\n",
    "area = (math.sqrt(3)/4) * perimeter**2\n",
    "print(Ans1,area)"
   ]
  },
  {
   "cell_type": "code",
   "execution_count": 56,
   "metadata": {},
   "outputs": [
    {
     "name": "stdout",
     "output_type": "stream",
     "text": [
      "288 72\n"
     ]
    }
   ],
   "source": [
    "Lenght = int(input(\"Perimeter\"))\n",
    "Width = int(input(ss\"Width\"))\n",
    "Ans1 = Lenght*Width\n",
    "Ans2 = Lenght*2+Width+Width\n",
    "print(Ans1,Ans2)"
   ]
  }
 ],
 "metadata": {
  "kernelspec": {
   "display_name": "Python 3",
   "language": "python",
   "name": "python3"
  },
  "language_info": {
   "codemirror_mode": {
    "name": "ipython",
    "version": 3
   },
   "file_extension": ".py",
   "mimetype": "text/x-python",
   "name": "python",
   "nbconvert_exporter": "python",
   "pygments_lexer": "ipython3",
   "version": "3.12.4"
  }
 },
 "nbformat": 4,
 "nbformat_minor": 2
}
